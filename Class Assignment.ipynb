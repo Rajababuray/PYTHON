{
 "cells": [
  {
   "cell_type": "markdown",
   "id": "4a09e6b6",
   "metadata": {},
   "source": [
    "## Write a Python program to solve the equation z = |x − y| * (x + y)"
   ]
  },
  {
   "cell_type": "code",
   "execution_count": 1,
   "id": "c10e8963",
   "metadata": {},
   "outputs": [
    {
     "name": "stdout",
     "output_type": "stream",
     "text": [
      "Enter the value of X12\n",
      "enter the value of Y21\n",
      "297\n"
     ]
    }
   ],
   "source": [
    "X=int(input(\"Enter the value of X\"))\n",
    "Y=int(input(\"enter the value of Y\"))\n",
    "Z=abs(X-Y)*(X+Y)\n",
    "print(Z)"
   ]
  },
  {
   "cell_type": "markdown",
   "id": "0f4dff83",
   "metadata": {},
   "source": [
    "## Write a Python program to calculate the surface volume and area of a cylinderFormula: Volume = pi * radius * radius * height Surface area of a cylinder = ((2*pi*radius)*height) + ((pi*radius**2)*2)"
   ]
  },
  {
   "cell_type": "code",
   "execution_count": 6,
   "id": "583216a2",
   "metadata": {},
   "outputs": [
    {
     "name": "stdout",
     "output_type": "stream",
     "text": [
      "Enter the value of radius: 45\n",
      "Enter the value of height: 55\n",
      "Volume of the cylinder is: 349894.88179356325\n",
      "Surface area of the cylinder is: 28274.333882308136\n"
     ]
    }
   ],
   "source": [
    "import math as m\n",
    "def cylinder_surface_volume(radius, height):\n",
    "    volume = m.pi * radius * radius * height\n",
    "    surface_area = ((2 * m.pi * radius) * height) + ((m.pi * radius ** 2) * 2)\n",
    "    return volume, surface_area\n",
    "\n",
    "radius = int(input(\"Enter the value of radius: \"))\n",
    "height = int(input(\"Enter the value of height: \"))\n",
    "volume, surface_area = cylinder_surface_volume(radius, height)\n",
    "\n",
    "print(\"Volume of the cylinder is:\", volume)\n",
    "print(\"Surface area of the cylinder is:\", surface_area)"
   ]
  },
  {
   "cell_type": "markdown",
   "id": "ffccb5cb",
   "metadata": {},
   "source": [
    "## Write a Python program to calculate the wind chill index. The given program calculates the wind chill index using the temperature and wind speed entered by the user. The wind chill index is an estimate of how cold the air feels to the human body, taking into account the cooling effect of the wind on the skin.prompts the user to enter the wind speed in kilometers per hour and the temperature in degrees Celsius using the input() function.The program calculates the wind chill index using the formula:.13.12 + 0.6215*t - 11.37*v**0.16 + 0.3965*t*v**0.16where t is the temperature in degrees Celsius and v is the wind speed in kilometers per hour. "
   ]
  },
  {
   "cell_type": "code",
   "execution_count": 3,
   "id": "0a9b4d37",
   "metadata": {},
   "outputs": [
    {
     "name": "stdout",
     "output_type": "stream",
     "text": [
      "Enter the air temperature in degrees Celsius: 34\n",
      "Enter the wind speed in kilometers per hour: 55\n",
      "The wind chill index is 38.25917120425747\n"
     ]
    }
   ],
   "source": [
    "\n",
    "te = float(input(\"Enter the air temperature in degrees Celsius: \"))\n",
    "v = float(input(\"Enter the wind speed in kilometers per hour: \"))\n",
    "\n",
    "wci = 13.12 + 0.6215 * te - 11.37 * v ** 0.16 + 0.3965 * te * v ** 0.16\n",
    "\n",
    "print(\"The wind chill index is\", wci)"
   ]
  },
  {
   "cell_type": "markdown",
   "id": "f5d71900",
   "metadata": {},
   "source": [
    "## Accept a number from the user and check whether it's a positive number or not.\n"
   ]
  },
  {
   "cell_type": "code",
   "execution_count": 5,
   "id": "cad9cec8",
   "metadata": {},
   "outputs": [
    {
     "name": "stdout",
     "output_type": "stream",
     "text": [
      "Enter a number: 45\n",
      "The number is positive\n"
     ]
    }
   ],
   "source": [
    "num = float(input(\"Enter a number: \"))\n",
    "if num > 0:\n",
    "    print(\"The number is positive\")\n",
    "elif num == 0:\n",
    "    print(\"The number is zero\")\n",
    "else:\n",
    "    print(\"The number is negative\")"
   ]
  },
  {
   "cell_type": "markdown",
   "id": "ea83a3e2",
   "metadata": {},
   "source": [
    "## Accept three sides of the triangle and check whether the triangle is possible or not."
   ]
  },
  {
   "cell_type": "code",
   "execution_count": 8,
   "id": "b67657ed",
   "metadata": {},
   "outputs": [
    {
     "name": "stdout",
     "output_type": "stream",
     "text": [
      "Enter the side a: 22\n",
      "Enter the side b: 22\n",
      "Enter the side c: 22\n",
      "Triangle is valid.\n"
     ]
    }
   ],
   "source": [
    "a = int(input(\"Enter the side a: \"))\n",
    "b = int(input(\"Enter the side b: \"))\n",
    "c = int(input(\"Enter the side c: \"))\n",
    "if (a + b > c) and (b + c > a) and (a + c > b):\n",
    "    print(\"Triangle is valid.\")\n",
    "else:\n",
    "    print(\"Triangle is not valid.\")"
   ]
  },
  {
   "cell_type": "markdown",
   "id": "3d5a416b",
   "metadata": {},
   "source": [
    "## Check if the nth power of a number is even or not (get the number and the power as an input)."
   ]
  },
  {
   "cell_type": "code",
   "execution_count": 10,
   "id": "b27f2e3f",
   "metadata": {},
   "outputs": [
    {
     "name": "stdout",
     "output_type": "stream",
     "text": [
      "Enter a number: 2\n",
      "Enter the power: 3\n",
      "2^3 is even.\n"
     ]
    }
   ],
   "source": [
    "def is_even(n, p):\n",
    "    return (n**p) % 2 == 0\n",
    "\n",
    "n = int(input(\"Enter a number: \"))\n",
    "p = int(input(\"Enter the power: \"))\n",
    "\n",
    "if is_even(n, p):\n",
    "    print(f\"{n}^{p} is even.\")\n",
    "else:\n",
    "    print(f\"{n}^{p} is odd.\")"
   ]
  },
  {
   "cell_type": "markdown",
   "id": "5292bd04",
   "metadata": {},
   "source": [
    "## ACB - Omni Bus Company, has decided to give a traveling fare concession for the Senior Citizen as 20%, the actual fare will be Rs 1020. The upper age limit for Senior Citizens is Above ‘60’. For verification, they will ask for the date of birth, and if satisfied, they will be given concession and will be displayed the final traveling charge, if not original fare will be displayed. \n"
   ]
  },
  {
   "cell_type": "code",
   "execution_count": null,
   "id": "83d8cc95",
   "metadata": {},
   "outputs": [],
   "source": [
    "import datetime\n",
    "fare = 1020\n",
    "bdate = input(\"Type your Date of birth (ie.10/11/2011) : \")\n",
    "day, month, year = map(int, bdate.split('/'))\n",
    "birth_date = datetime.date(year, month, day)\n",
    "current_year = datetime.datetime.now().year\n",
    "age = current_year - birth_date.year\n",
    "print(age)\n",
    "if(age>= 60):\n",
    "    print(\"traveling fare for senior citizen is: \",(20/100)*fare)\n",
    "else:\n",
    "    print(\"SORRY!!!. The service is only for Senior citizen\")\n"
   ]
  },
  {
   "cell_type": "markdown",
   "id": "d734d18a",
   "metadata": {},
   "source": [
    "## Three numbers form a Pythogorean Triple, if the sum of squares of two numbers is equal to the square of the third.For example, 3,4 and 5 form a Pythagorean triple, since 3*3 + 4*4 = 5*5.Enter the Three numbers n1, n2, and n3 (It should be in increasing order). If they form a Pythoagorean triple, then print ‘1’ otherwise print ‘0’."
   ]
  },
  {
   "cell_type": "code",
   "execution_count": null,
   "id": "85da6ee9",
   "metadata": {},
   "outputs": [
    {
     "name": "stdout",
     "output_type": "stream",
     "text": [
      "Enter the three numbers separated by spaces: 2 3 4\n",
      "0\n"
     ]
    }
   ],
   "source": [
    "n1, n2, n3 = sorted(map(int, input(\"Enter the three numbers separated by spaces: \").split()))\n",
    "print(\"1\" if n1 * n1 + n2 * n2 == n3 * n3 else \"0\")"
   ]
  },
  {
   "cell_type": "markdown",
   "id": "3c491fb5",
   "metadata": {},
   "source": [
    "## A rotract club has decided to conduct the Blood donation camp. The eligibility of the blood donation camp will be the people should be above ‘18’ and his/her weight should be above 40. The volunteers will enter the name, age and weight of the person, then it will display whether they are Eligible or not.Display ‘1’ if they are eligible and ‘0’ if they are not eligible."
   ]
  },
  {
   "cell_type": "code",
   "execution_count": null,
   "id": "88fe4138",
   "metadata": {},
   "outputs": [
    {
     "name": "stdout",
     "output_type": "stream",
     "text": [
      "Enter your name, age and weight separated by spaces: lalan 20 60\n",
      "lalan is eligible for blood donation (1)\n"
     ]
    }
   ],
   "source": [
    "name, age, weight = input(\"Enter your name, age and weight separated by spaces: \").split()\n",
    "print(f\"{name} is eligible for blood donation (1)\" if int(age) >= 18 and int(weight) > 40 else f\"{name} is not eligible for blood donation (0)\")"
   ]
  },
  {
   "attachments": {},
   "cell_type": "markdown",
   "id": "8ed1f761",
   "metadata": {},
   "source": [
    "## A company has decided to give bonuses to their employees based on their service.More than 10 Years: 10%More than 6 years and less than 10–8%Less than 6 years: 5%Ask the user to enter the salary and year of service and print their bonus.Accept the name, age, gender (‘M’ or ‘F’), number of days, and display the wages accordingly.Age: greater than or equal to 18 and greater than 30, gender: \"M”, then wages will be Rs 700 per day.Age: greater than or equal to 18 and less than 30, gender: \"F\" then wages will be Rs 750 per day.If age is greater than or equal to 30 and less than or equal to 40, and gender is \"M’, then wages will be Rs 800 per day.Age: greater than or equal to 30 and less than or equal to 40; gender: \"F,\" then wages will be Rs 800 per day.\n"
   ]
  },
  {
   "cell_type": "code",
   "execution_count": 1,
   "id": "99287699",
   "metadata": {},
   "outputs": [
    {
     "name": "stdout",
     "output_type": "stream",
     "text": [
      "Your bonus is: 5000.0\n",
      "raja, your wages are Rs. 350000\n"
     ]
    }
   ],
   "source": [
    "salary = float(input(\"Enter your salary: \"))\n",
    "years_of_service = int(input(\"Enter your years of service: \"))\n",
    "\n",
    "if years_of_service > 10:\n",
    "    bonus = salary * 0.1\n",
    "elif years_of_service > 6:\n",
    "    bonus = salary * 0.08\n",
    "else:\n",
    "    bonus = salary * 0.05\n",
    "\n",
    "print(\"Your bonus is:\", bonus)\n",
    "\n",
    "name = input(\"Enter your name: \")\n",
    "age = int(input(\"Enter your age: \"))\n",
    "gender = input(\"Enter your gender (M/F): \")\n",
    "days = int(input(\"Enter the number of days worked: \"))\n",
    "\n",
    "if age >= 18 and gender == \"M\":\n",
    "    wages = days * 700\n",
    "elif age >= 18 and age < 30 and gender == \"F\":\n",
    "    wages = days * 750\n",
    "elif age >= 30 and age <= 40 and gender == \"M\":\n",
    "    wages = days * 800\n",
    "elif age >= 30 and age <= 40 and gender == \"F\":\n",
    "    wages = days * 800\n",
    "else:\n",
    "    wages = -1 # Invalid input\n",
    "\n",
    "if wages != -1:\n",
    "    print(name + \", your wages are Rs.\", wages)\n",
    "else:\n",
    "    print(\"Invalid input\")"
   ]
  },
  {
   "attachments": {},
   "cell_type": "markdown",
   "id": "fd3dd24e",
   "metadata": {},
   "source": [
    "## The rules for determining whether or not a year is a leap year follow: Any year that is divisible by 400 is a leap year. Of the remaining years, any year that is divisible by 100 is not a leap year. Of the remaining years, any year that is divisible by 4 is a leap year. All other years are not leap years. Write a program that reads a year from the user and displays a message indicating whether or not it is a leap year. Sample Input: 1 1900 Sample Output 1 1900 is not a leap year. Sample Input 2 2000 Sample Output 2 2000 is a leap year.\n"
   ]
  },
  {
   "cell_type": "code",
   "execution_count": null,
   "id": "d607df3c",
   "metadata": {},
   "outputs": [
    {
     "name": "stdout",
     "output_type": "stream",
     "text": [
      "2001 is not a leap year\n"
     ]
    }
   ],
   "source": [
    "year = int(input(\"Enter a year: \"))\n",
    "\n",
    "if year % 400 == 0:\n",
    "    print(year, \"is a leap year\")\n",
    "elif year % 100 == 0:\n",
    "    print(year, \"is not a leap year\")\n",
    "elif year % 4 == 0:\n",
    "    print(year, \"is a leap year\")\n",
    "else:\n",
    "    print(year, \"is not a leap year\")"
   ]
  },
  {
   "attachments": {},
   "cell_type": "markdown",
   "id": "38f6fa36",
   "metadata": {},
   "source": [
    "# Looping Program"
   ]
  },
  {
   "attachments": {},
   "cell_type": "markdown",
   "id": "aa1ce147",
   "metadata": {},
   "source": [
    "### Write a program to display the count of even and odd numbers in a given range.\n",
    "### Sample Input\n",
    "### Start: 20\n",
    "### End : 50\n",
    "### (inclusive of 20 and 50)\n",
    "### Sample Output:\n",
    "### Even : 16\n",
    "### Odd : 15\n"
   ]
  },
  {
   "cell_type": "code",
   "execution_count": 1,
   "id": "48b7c402",
   "metadata": {},
   "outputs": [
    {
     "name": "stdout",
     "output_type": "stream",
     "text": [
      "Even : 16\n",
      "Odd : 15\n"
     ]
    }
   ],
   "source": [
    "start = 20\n",
    "end = 50\n",
    "\n",
    "even_count = 0\n",
    "odd_count = 0\n",
    "\n",
    "for i in range(start, end+1):\n",
    "    if i % 2 == 0:\n",
    "        even_count += 1\n",
    "    else:\n",
    "        odd_count += 1\n",
    "\n",
    "print(\"Even :\", even_count)\n",
    "print(\"Odd :\", odd_count)"
   ]
  },
  {
   "attachments": {},
   "cell_type": "markdown",
   "id": "ea740046",
   "metadata": {},
   "source": [
    "### Write a program to display the factors of a given number.\n",
    "### Sample Input\n",
    "## 56\n",
    "### Sample output\n",
    "### 1, 2, 4, 7, 8, 14, 28, 56\n"
   ]
  },
  {
   "cell_type": "code",
   "execution_count": 3,
   "id": "3590b435",
   "metadata": {},
   "outputs": [
    {
     "name": "stdout",
     "output_type": "stream",
     "text": [
      "Factors of 56 are:\n",
      "1, 2, 4, 7, 8, 14, 28, 56\n"
     ]
    }
   ],
   "source": [
    "num = int(input(\"Enter a number: \"))\n",
    "print(\"Factors of\", num, \"are:\")\n",
    "factors = []\n",
    "for i in range(1, num + 1):\n",
    "    if num % i == 0:\n",
    "        factors.append(str(i))\n",
    "print(\", \".join(factors))"
   ]
  },
  {
   "attachments": {},
   "cell_type": "markdown",
   "id": "159a078f",
   "metadata": {},
   "source": [
    "### Write a program to display the prime in the given range. \n",
    "### Sample Input\n",
    "### 10\n",
    "### Sample Output\n",
    "### 2 , 3 , 5 , 7\n"
   ]
  },
  {
   "cell_type": "code",
   "execution_count": 1,
   "id": "d7a1c20a",
   "metadata": {},
   "outputs": [
    {
     "name": "stdout",
     "output_type": "stream",
     "text": [
      "Factors of 10 are:\n",
      "1, 2, 5, 10\n"
     ]
    }
   ],
   "source": [
    "num = int(input(\"Enter a number: \"))\n",
    "print(\"Factors of\", num, \"are:\")\n",
    "factors = []\n",
    "for i in range(1, num + 1):\n",
    "    if num % i == 0:\n",
    "        factors.append(str(i))\n",
    "print(\", \".join(factors))"
   ]
  },
  {
   "attachments": {},
   "cell_type": "markdown",
   "id": "e3d99c56",
   "metadata": {},
   "source": [
    "### Write a program to display the prime in the given range. \n",
    "### Sample Input\n",
    "### 1\n",
    "### 10\n",
    "### Sample Output\n",
    "### 2 , 3 , 5 , 7\n"
   ]
  },
  {
   "cell_type": "code",
   "execution_count": 1,
   "id": "f9fa254b",
   "metadata": {},
   "outputs": [
    {
     "name": "stdout",
     "output_type": "stream",
     "text": [
      "2,3,5,7\n"
     ]
    }
   ],
   "source": [
    "min = int(input(\"Enter the min : \"))\n",
    "max = int(input(\"Enter the max : \"))\n",
    "prime = []\n",
    "for n in range(min,max+1):\n",
    "    if n > 1:\n",
    "        for i in range(2,n):\n",
    "            if (n % i) == 0:\n",
    "                break\n",
    "        else:\n",
    "            prime.append(str(n))\n",
    "print(\",\".join(prime))"
   ]
  },
  {
   "attachments": {},
   "cell_type": "markdown",
   "id": "70a52d51",
   "metadata": {},
   "source": [
    "### Write a program to display the multiplication table as below \n",
    "### Sample Input \n",
    "### 5\n",
    "### Sample Output\n",
    "### 5 * 1 = 5\n",
    "### 5 * 2 = 10\n",
    "#### .\n",
    "### .\n",
    "### 5 * 10 = 50\n"
   ]
  },
  {
   "cell_type": "code",
   "execution_count": 2,
   "id": "b3f4dd02",
   "metadata": {},
   "outputs": [
    {
     "name": "stdout",
     "output_type": "stream",
     "text": [
      "5 x 1 = 5\n",
      "5 x 2 = 10\n",
      "5 x 3 = 15\n",
      "5 x 4 = 20\n",
      "5 x 5 = 25\n",
      "5 x 6 = 30\n",
      "5 x 7 = 35\n",
      "5 x 8 = 40\n",
      "5 x 9 = 45\n",
      "5 x 10 = 50\n"
     ]
    }
   ],
   "source": [
    "num = int(input(\"Show the multiplication table of? \"))  \n",
    "for i in range(1, 11):  \n",
    "   print(num,'x',i,'=',num*i)  "
   ]
  },
  {
   "attachments": {},
   "cell_type": "markdown",
   "id": "2c79bf06",
   "metadata": {},
   "source": [
    "### Write a program to display the multiplication table as below with a given range\n",
    "### Sample Input\n",
    "### Start Table : 5\n",
    "### End Table: 8\n",
    "### Sample Output\n",
    "### 5 * 1 = 5\t\t6 * 1 = 6\t7 * 1 = 7\t8*1 = 8\n",
    "### 5 * 2 = 10\t\t6* 2 = 12\t7* 2=14\t8*2= 16\n",
    "### .\n",
    "### .\n",
    "### 5 * 10 = 50\t"
   ]
  },
  {
   "cell_type": "code",
   "execution_count": 3,
   "id": "71f3e730",
   "metadata": {},
   "outputs": [
    {
     "name": "stdout",
     "output_type": "stream",
     "text": [
      "5 * 1 = 5\t6 * 1 = 6\t7 * 1 = 7\t8 * 1 = 8\t\n",
      "5 * 2 = 10\t6 * 2 = 12\t7 * 2 = 14\t8 * 2 = 16\t\n",
      "5 * 3 = 15\t6 * 3 = 18\t7 * 3 = 21\t8 * 3 = 24\t\n",
      "5 * 4 = 20\t6 * 4 = 24\t7 * 4 = 28\t8 * 4 = 32\t\n",
      "5 * 5 = 25\t6 * 5 = 30\t7 * 5 = 35\t8 * 5 = 40\t\n",
      "5 * 6 = 30\t6 * 6 = 36\t7 * 6 = 42\t8 * 6 = 48\t\n",
      "5 * 7 = 35\t6 * 7 = 42\t7 * 7 = 49\t8 * 7 = 56\t\n",
      "5 * 8 = 40\t6 * 8 = 48\t7 * 8 = 56\t8 * 8 = 64\t\n",
      "5 * 9 = 45\t6 * 9 = 54\t7 * 9 = 63\t8 * 9 = 72\t\n",
      "5 * 10 = 50\t6 * 10 = 60\t7 * 10 = 70\t8 * 10 = 80\t\n"
     ]
    }
   ],
   "source": [
    "start_table = int(input(\"Start Table : \"))\n",
    "end_table = int(input(\"End Table: \"))\n",
    "for i in range(1, 11):\n",
    "    for j in range(start_table, end_table+1):\n",
    "        print(j, \"*\", i, \"=\", j*i, end=\"\\t\")\n",
    "    print()"
   ]
  },
  {
   "cell_type": "code",
   "execution_count": null,
   "id": "5a8b1814",
   "metadata": {},
   "outputs": [],
   "source": []
  }
 ],
 "metadata": {
  "kernelspec": {
   "display_name": "Python 3 (ipykernel)",
   "language": "python",
   "name": "python3"
  },
  "language_info": {
   "codemirror_mode": {
    "name": "ipython",
    "version": 3
   },
   "file_extension": ".py",
   "mimetype": "text/x-python",
   "name": "python",
   "nbconvert_exporter": "python",
   "pygments_lexer": "ipython3",
   "version": "3.10.4"
  }
 },
 "nbformat": 4,
 "nbformat_minor": 5
}
