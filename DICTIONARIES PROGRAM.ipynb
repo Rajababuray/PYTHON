{
 "cells": [
  {
   "attachments": {},
   "cell_type": "markdown",
   "id": "a8c0c989",
   "metadata": {},
   "source": [
    "## DICTIONARIES"
   ]
  },
  {
   "attachments": {},
   "cell_type": "markdown",
   "id": "25ee1b23",
   "metadata": {},
   "source": [
    "Write a python program to generate the following dictionary \n",
    "Num = { 1 : 1, 2 : 8, 3 : 27, 4 : 64, 5 : 125 ….. , 20 : 8000}"
   ]
  },
  {
   "cell_type": "code",
   "execution_count": 1,
   "id": "c3fc10b7",
   "metadata": {},
   "outputs": [
    {
     "name": "stdout",
     "output_type": "stream",
     "text": [
      "{1: 1, 2: 8, 3: 27, 4: 64, 5: 125, 6: 216, 7: 343, 8: 512, 9: 729, 10: 1000, 11: 1331, 12: 1728, 13: 2197, 14: 2744, 15: 3375, 16: 4096, 17: 4913, 18: 5832, 19: 6859, 20: 8000}\n"
     ]
    }
   ],
   "source": [
    "Num = {}\n",
    "for i in range(1, 21):\n",
    "    Num[i] = i ** 3\n",
    "\n",
    "print(Num)\n"
   ]
  },
  {
   "attachments": {},
   "cell_type": "markdown",
   "id": "51405dab",
   "metadata": {},
   "source": [
    "Write a program that inverts a dictionary. I.e., it makes key of one dictionary value of another and vice versa\n",
    "Sample Input:\n",
    "Dict={‘Reg.No”:123, ‘Name’:’abc’,Course’:’CSE’}\n",
    "Sample Output:\n",
    "Inv Dict={123:’Reg.No’, ‘abc’ : ‘Name’, ‘CSE’: ‘Course’}"
   ]
  },
  {
   "cell_type": "code",
   "execution_count": 2,
   "id": "a15fe1c5",
   "metadata": {},
   "outputs": [
    {
     "name": "stdout",
     "output_type": "stream",
     "text": [
      "Original Dictionary: {'Reg.No': 123, 'Name': 'abc', 'Course': 'CSE'}\n",
      "Inverted Dictionary: {123: 'Reg.No', 'abc': 'Name', 'CSE': 'Course'}\n"
     ]
    }
   ],
   "source": [
    "Dict = {'Reg.No': 123, 'Name': 'abc', 'Course': 'CSE'}\n",
    "Inv_Dict = {v: k for k, v in Dict.items()}\n",
    "\n",
    "print(\"Original Dictionary:\", Dict)\n",
    "print(\"Inverted Dictionary:\", Inv_Dict)\n"
   ]
  },
  {
   "attachments": {},
   "cell_type": "markdown",
   "id": "a14d35ce",
   "metadata": {},
   "source": [
    " Generate a dictionary where keys are numbers and values consist of a set of its factors in a specified range. \n",
    "Factors = {1:{1} , 2:{1,2}, 3: {1,3}, 4:{1,2,4} , 5:{1,5}, 6:{1,2,3,6}, 7:{1,7}, 8:{1,2,4,8}, 9:{1,3,9,}}"
   ]
  },
  {
   "cell_type": "code",
   "execution_count": 3,
   "id": "3dce2904",
   "metadata": {},
   "outputs": [
    {
     "name": "stdout",
     "output_type": "stream",
     "text": [
      "{1: {1}, 2: {1, 2}, 3: {1, 3}, 4: {1, 2, 4}, 5: {1, 5}, 6: {1, 2, 3, 6}, 7: {1, 7}, 8: {8, 1, 2, 4}, 9: {1, 3, 9}}\n"
     ]
    }
   ],
   "source": [
    "def generate_factors_dict(n, start=1, end=None):\n",
    "    if end is None:\n",
    "        end = n + 1\n",
    "    factors_dict = {}\n",
    "    for i in range(start, end):\n",
    "        factors_dict[i] = set()\n",
    "        for j in range(1, i + 1):\n",
    "            if i % j == 0:\n",
    "                factors_dict[i].add(j)\n",
    "    return factors_dict\n",
    "\n",
    "n = 9\n",
    "start = 1\n",
    "end = n + 1\n",
    "\n",
    "factors_dict = generate_factors_dict(n, start, end)\n",
    "\n",
    "print(factors_dict)\n"
   ]
  },
  {
   "attachments": {},
   "cell_type": "markdown",
   "id": "9452fd91",
   "metadata": {},
   "source": [
    "Assume that the below dictionary \n",
    "Digit_word = { 1 : “One”, 2 : “Two” , 3 : “Three” , 4 : “Four” , 5 : “Five” , 6 : “Six” , 7 : “Seven” , 8 : “Eight” , 9 : “Nine”}\n",
    "Read the integer from the user and display it in words by considering the above dictionary."
   ]
  },
  {
   "attachments": {},
   "cell_type": "markdown",
   "id": "1984dfa5",
   "metadata": {},
   "source": [
    "Assume that the below dictionary \n",
    "Digit_word = { 1 : “One”, 2 : “Two” , 3 : “Three” , 4 : “Four” , 5 : “Five” , 6 : “Six” , 7 : “Seven” , 8 : “Eight” , 9 : “Nine”}\n",
    "Read the integer from the user and display it in words by considering the above dictionary.\n",
    "Sample Input \n",
    "324\n",
    "Sample Output\n",
    "Three Two Four\n"
   ]
  },
  {
   "cell_type": "code",
   "execution_count": 2,
   "id": "e870a217",
   "metadata": {},
   "outputs": [
    {
     "name": "stdout",
     "output_type": "stream",
     "text": [
      "Five Five\n"
     ]
    }
   ],
   "source": [
    "Digit_word = {\n",
    "    1: \"One\", 2: \"Two\", 3: \"Three\", 4: \"Four\", 5: \"Five\",\n",
    "    6: \"Six\", 7: \"Seven\", 8: \"Eight\", 9: \"Nine\"\n",
    "}\n",
    "\n",
    "number = input(\"Enter an integer: \")\n",
    "\n",
    "output = \" \".join([Digit_word[int(digit)] for digit in number])\n",
    "print(output)"
   ]
  },
  {
   "attachments": {},
   "cell_type": "markdown",
   "id": "b300aeef",
   "metadata": {},
   "source": [
    "Three Two Four\n",
    "Given the dictionary that contains Key as “Cricketer Name”, and Value as dictionary of {Total Runs Conceded and Wickets} taken by 6 different players, \n",
    "\n",
    "Cricketer = {”VinayKumar”:{102,5},Yuzvendra Chahal : {89,10}, Sandeep Sharma : {95,8}, Umesh Yadav : {85,6}, “BhuvaneswarKumar”:{106,10}, Basil Thampi : {70,5}}\n",
    "\n",
    "calculate the average bowling score using below Formula\n",
    "Bowling Average = Total Runs Conceded / Total Wickets Taken\n",
    "Replace the key values with the calculated Bowling Average.\n",
    "Then sort the dictionary based on the Bowling Average.\n",
    "Output\n",
    "must be sorted based on the the value\n",
    "{”VinayKumar”:{20.4},Umesh Yadav : {14.6}, Basil Thampi : {14}, Sandeep Sharma : {11.85}, “BhuvaneswarKumar”:{10.6}, Yuzvendra Chahal : {8.9}}\n",
    "\n",
    "Sorted() function syntax to sort the value based on the key\n",
    "sorted_dict = sorted(dictionary.items(), key=lambda x: x[1])\n",
    "1st argument - dictionary.items() returns key,value pairs of the given dictionary\n",
    "2nd argument - key parameter -> set to lambda x:x[1] refer to the value in pair therefore the dictionary will be sorted based on the value."
   ]
  },
  {
   "cell_type": "code",
   "execution_count": 3,
   "id": "86d8aff1",
   "metadata": {},
   "outputs": [
    {
     "name": "stdout",
     "output_type": "stream",
     "text": [
      "{'Yuzvendra Chahal': [8.9], 'BhuvaneswarKumar': [10.6], 'Sandeep Sharma': [11.875], 'Basil Thampi': [14.0], 'Umesh Yadav': [14.166666666666666], 'VinayKumar': [20.4]}\n"
     ]
    }
   ],
   "source": [
    "Cricketer = {\n",
    "    \"VinayKumar\": [102, 5],\n",
    "    \"Yuzvendra Chahal\": [89, 10],\n",
    "    \"Sandeep Sharma\": [95, 8],\n",
    "    \"Umesh Yadav\": [85, 6],\n",
    "    \"BhuvaneswarKumar\": [106, 10],\n",
    "    \"Basil Thampi\": [70, 5]\n",
    "}\n",
    "for cricketer in Cricketer:\n",
    "    runs_conceded, wickets = Cricketer[cricketer]\n",
    "    bowling_average = runs_conceded / wickets\n",
    "    Cricketer[cricketer] = [bowling_average]\n",
    "sorted_dict = sorted(Cricketer.items(), key=lambda x: x[1][0])\n",
    "sorted_Cricketer = {key: value for key, value in sorted_dict}\n",
    "print(sorted_Cricketer)"
   ]
  }
 ],
 "metadata": {
  "kernelspec": {
   "display_name": "Python 3 (ipykernel)",
   "language": "python",
   "name": "python3"
  },
  "language_info": {
   "codemirror_mode": {
    "name": "ipython",
    "version": 3
   },
   "file_extension": ".py",
   "mimetype": "text/x-python",
   "name": "python",
   "nbconvert_exporter": "python",
   "pygments_lexer": "ipython3",
   "version": "3.10.11"
  }
 },
 "nbformat": 4,
 "nbformat_minor": 5
}
