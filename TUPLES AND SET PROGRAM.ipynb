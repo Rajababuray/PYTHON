{
 "cells": [
  {
   "attachments": {},
   "cell_type": "markdown",
   "metadata": {},
   "source": [
    "## TUPLES PROGRAM"
   ]
  },
  {
   "attachments": {},
   "cell_type": "markdown",
   "metadata": {},
   "source": [
    "### Write a python program that scans an email address and forms a tuple of user name and domain\n",
    "Sample Input:\n",
    "22cs453@kpriet.ac.in\n",
    "Sample output:\n",
    "User name: 22cs452\n",
    "Domain name: kpriet.ac.in\n"
   ]
  },
  {
   "cell_type": "code",
   "execution_count": 1,
   "metadata": {},
   "outputs": [
    {
     "name": "stdout",
     "output_type": "stream",
     "text": [
      "User name: 22cs453\n",
      "Domain name: kpriet.ac.in\n"
     ]
    }
   ],
   "source": [
    "def parse_email(email):\n",
    "    username, domain = email.split(\"@\")\n",
    "    return username, domain\n",
    "\n",
    "email_address = input(\"Enter an email address: \")\n",
    "username, domain = parse_email(email_address)\n",
    "\n",
    "print(\"User name:\", username)\n",
    "print(\"Domain name:\", domain)"
   ]
  },
  {
   "attachments": {},
   "cell_type": "markdown",
   "metadata": {},
   "source": [
    "### Write a python program that has a list of positive and negative numbers.Make a new tuple that has only positive values from the list.\n",
    "Sample Input: (-20,-4,-7,6,4,8,3,-6)\n",
    "Sample Output: (6,4,8,3)\n"
   ]
  },
  {
   "cell_type": "code",
   "execution_count": 2,
   "metadata": {},
   "outputs": [
    {
     "name": "stdout",
     "output_type": "stream",
     "text": [
      "Sample Input: (-20, -4, -7, 6, 4, 8, 3, -6)\n",
      "Sample Output: (6, 4, 8, 3)\n"
     ]
    }
   ],
   "source": [
    "numbers = (-20,-4,-7,6,4,8,3,-6)\n",
    "positive_numbers = tuple(filter(lambda x: x > 0, numbers))\n",
    "print(\"Sample Input:\", numbers)\n",
    "print(\"Sample Output:\", positive_numbers)"
   ]
  },
  {
   "attachments": {},
   "cell_type": "markdown",
   "metadata": {},
   "source": [
    "## SET PROGRAM"
   ]
  },
  {
   "attachments": {},
   "cell_type": "markdown",
   "metadata": {},
   "source": [
    "### Write a program that generate a set of number that are prime numbers (1-50) and another set of numbers divisible by 5 (1-50),then apply union, intersection, difference and symmetric difference on the resultant sets\n"
   ]
  },
  {
   "cell_type": "code",
   "execution_count": 3,
   "metadata": {},
   "outputs": [
    {
     "name": "stdout",
     "output_type": "stream",
     "text": [
      "Union: {2, 3, 5, 7, 10, 11, 13, 15, 17, 19, 20, 23, 25, 29, 30, 31, 35, 37, 40, 41, 43, 45, 47, 50}\n",
      "Intersection: {5}\n",
      "Difference (Prime Numbers - Divisible by 5): {2, 3, 37, 7, 41, 11, 43, 13, 47, 17, 19, 23, 29, 31}\n",
      "Symmetric Difference: {2, 3, 7, 10, 11, 13, 15, 17, 19, 20, 23, 25, 29, 30, 31, 35, 37, 40, 41, 43, 45, 47, 50}\n"
     ]
    }
   ],
   "source": [
    "prime_numbers = set(num for num in range(2, 51) if all(num % i != 0 for i in range(2, int(num ** 0.5) + 1)))\n",
    "divisible_by_5 = set(num for num in range(1, 51) if num % 5 == 0)\n",
    "\n",
    "union_set = prime_numbers.union(divisible_by_5)\n",
    "intersection_set = prime_numbers.intersection(divisible_by_5)\n",
    "difference_set = prime_numbers.difference(divisible_by_5)\n",
    "symmetric_difference_set = prime_numbers.symmetric_difference(divisible_by_5)\n",
    "\n",
    "print(\"Union:\", union_set)\n",
    "print(\"Intersection:\", intersection_set)\n",
    "print(\"Difference (Prime Numbers - Divisible by 5):\", difference_set)\n",
    "print(\"Symmetric Difference:\", symmetric_difference_set)\n"
   ]
  },
  {
   "attachments": {},
   "cell_type": "markdown",
   "metadata": {},
   "source": [
    "### Write a program that generates a set of squares of numbers in the range(1-30) and another list generates numbers that are divisible by 3 in the range(1-30). Generate a newset from a square set, which should not contain the numbers that are divisible by 3."
   ]
  },
  {
   "cell_type": "code",
   "execution_count": 4,
   "metadata": {},
   "outputs": [
    {
     "name": "stdout",
     "output_type": "stream",
     "text": [
      "New Set: {256, 1, 4, 900, 16, 144, 400, 529, 784, 25, 289, 36, 676, 169, 49, 441, 64, 576, 196, 324, 841, 81, 729, 225, 100, 484, 361, 625, 121}\n"
     ]
    }
   ],
   "source": [
    "squares_set = {num**2 for num in range(1, 31)}\n",
    "divisible_by_3_list = [num for num in range(1, 31) if num % 3 == 0]\n",
    "new_set = squares_set - set(divisible_by_3_list)\n",
    "print(\"New Set:\", new_set)"
   ]
  },
  {
   "attachments": {},
   "cell_type": "markdown",
   "metadata": {},
   "source": [
    "### Write a Python Program to Count the Number of Vowels in a Given String Using Sets. Don’t use any built in string functions. \n",
    "Hint: Create a set that contains VOWELS\n"
   ]
  },
  {
   "cell_type": "code",
   "execution_count": 5,
   "metadata": {},
   "outputs": [
    {
     "name": "stdout",
     "output_type": "stream",
     "text": [
      "Number of vowels: 2\n"
     ]
    }
   ],
   "source": [
    "def count_vowels(string):\n",
    "    vowels = {'a', 'e', 'i', 'o', 'u'}\n",
    "    count = 0\n",
    "    for char in string.lower():\n",
    "        if char in vowels:\n",
    "            count += 1\n",
    "    return count\n",
    "\n",
    "input_string = input(\"Enter a string: \")\n",
    "vowel_count = count_vowels(input_string)\n",
    "\n",
    "print(\"Number of vowels:\", vowel_count)\n"
   ]
  },
  {
   "attachments": {},
   "cell_type": "markdown",
   "metadata": {},
   "source": [
    "### Consider the given list and find the common elements of the three given lists USING SET.\n",
    "List1 = [10, 45, 34, 20, 11]\n",
    "List2 = [11, 25, 45, 20]\n",
    "List3 = [20, 25, 11, 14, 45, 65]\n"
   ]
  },
  {
   "cell_type": "code",
   "execution_count": null,
   "metadata": {},
   "outputs": [],
   "source": [
    "list1 = [10, 45, 34, 20, 11]\n",
    "list2 = [11, 25, 45, 20]\n",
    "list3 = [20, 25, 11, 14, 45, 65]\n",
    "\n",
    "set1 = set(list1)\n",
    "set2 = set(list2)\n",
    "set3 = set(list3)\n",
    "common_elements = set1.intersection(set2, set3)\n",
    "print(\"Common elements:\", common_elements)"
   ]
  }
 ],
 "metadata": {
  "kernelspec": {
   "display_name": "Python 3",
   "language": "python",
   "name": "python3"
  },
  "language_info": {
   "codemirror_mode": {
    "name": "ipython",
    "version": 3
   },
   "file_extension": ".py",
   "mimetype": "text/x-python",
   "name": "python",
   "nbconvert_exporter": "python",
   "pygments_lexer": "ipython3",
   "version": "3.10.8"
  },
  "orig_nbformat": 4
 },
 "nbformat": 4,
 "nbformat_minor": 2
}
